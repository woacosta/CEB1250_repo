{
 "cells": [
  {
   "cell_type": "markdown",
   "metadata": {},
   "source": [
    "# Python Warmup\n",
    "\n",
    "Ask the user for a number. Depending on whether the number is even or odd, print out an\n",
    "appropriate message;\n",
    "\n",
    "Expanding the previous exercise, let’s say I give you a list saved in a variable: a = [1, 4, 9, 16, 25, 36,\n",
    "49, 64, 81, 100]. Write one line of Python that takes this list a and makes a new list that has only the\n",
    "even elements of this list in it.\n",
    "\n",
    "Create a function that takes a list of numbers. Return the largest number in the list.\n",
    "\n",
    "Ask the user for a string and print out whether this string is a palindrome or not. (A palindrome is a\n",
    "string that reads the same forwards and backwards.)\n",
    "\n",
    "Write a program that asks the user how many Fibonnaci numbers to generate and then generates\n",
    "them.\n",
    "\n",
    "Write a program that takes a number and print its square.\n",
    "\n",
    "Given an list of positive integers with higher than 0 the answer should contain average values.\n",
    "\n",
    "Return the number of vowels per string.\n",
    "\n",
    "Write a program to convert degrees of Fahrenheit to Celsius."
   ]
  },
  {
   "cell_type": "code",
   "execution_count": 1,
   "metadata": {},
   "outputs": [
    {
     "name": "stdout",
     "output_type": "stream",
     "text": [
      "Greetings! Please enter a number \n",
      "\n",
      "5\n",
      "\n",
      "The number you have chosen is odd\n"
     ]
    }
   ],
   "source": [
    "# 1) Ask the user for a number. Depending on whether the number is even or odd, print out an appropriate message\n",
    "\n",
    "def inputNumber(message):\n",
    "  while True:\n",
    "    try:\n",
    "       userInput = int(input(message))       \n",
    "    except ValueError:\n",
    "       print(\"Not an integer! Try again.\")\n",
    "       continue\n",
    "    else:\n",
    "       return userInput \n",
    "       break\n",
    "    \n",
    "def even_or_odd(num):\n",
    "    if num % 2 == 0:\n",
    "        print('\\nThe number you have chosen is even')\n",
    "    else:\n",
    "        print('\\nThe number you have chosen is odd')\n",
    "\n",
    "\n",
    "user_number = inputNumber(\"Greetings! Please enter a number \\n\\n\")\n",
    "\n",
    "even_or_odd(user_number)\n"
   ]
  },
  {
   "cell_type": "code",
   "execution_count": 3,
   "metadata": {},
   "outputs": [
    {
     "name": "stdout",
     "output_type": "stream",
     "text": [
      "[4, 16, 36, 64, 100]\n"
     ]
    }
   ],
   "source": [
    "# 2) Expanding the previous exercise, let’s say I give you a list saved in a variable: a = [1, 4, 9, 16, 25, 36,\n",
    "# 49, 64, 81, 100]. Write one line of Python that takes this list a and makes a new list that has only the\n",
    "# even elements of this list in it.\n",
    "a = [1, 4, 9, 16, 25, 36, 49, 64, 81, 100]\n",
    "even = [ num for num in a if num % 2 == 0 ]\n",
    "print(even)"
   ]
  },
  {
   "cell_type": "code",
   "execution_count": 5,
   "metadata": {},
   "outputs": [
    {
     "data": {
      "text/plain": [
       "100"
      ]
     },
     "execution_count": 5,
     "metadata": {},
     "output_type": "execute_result"
    }
   ],
   "source": [
    "# 3) Create a function that takes a list of numbers. Return the largest number in the list.\n",
    "a = [1, 4, 9, 16, 25, 36, 49, 64, 81, 100]\n",
    "def largest_num(list):\n",
    "    return max(list)\n",
    "\n",
    "largest_num(a)"
   ]
  },
  {
   "cell_type": "code",
   "execution_count": 6,
   "metadata": {},
   "outputs": [
    {
     "name": "stdout",
     "output_type": "stream",
     "text": [
      "Please input a word, phrase or number\n",
      "racecar\n",
      "You have entered a palindrome! The letters are the same backwards and forward!\n"
     ]
    }
   ],
   "source": [
    "# 4) Ask the user for a string and print out whether this string is a palindrome or not\n",
    "\n",
    "user_input = input('Please input a word, phrase or number\\n')\n",
    "\n",
    "if user_input[::-1] == user_input:\n",
    "    print('You have entered a palindrome! The letters are the same backwards and forward!')\n",
    "else:\n",
    "    print('This is not a palindrome. There is nothing cool here.')\n"
   ]
  },
  {
   "cell_type": "code",
   "execution_count": 7,
   "metadata": {},
   "outputs": [
    {
     "name": "stdout",
     "output_type": "stream",
     "text": [
      "How many fibonacci numbers would you like?\n",
      "10\n",
      "[0, 1, 1, 2, 3, 5, 8, 13, 21, 34]\n"
     ]
    }
   ],
   "source": [
    "# 5) Write a program that asks the user how many Fibonnaci numbers to generate and then generates them.\n",
    "\n",
    "desired_fib = int(input('How many fibonacci numbers would you like?\\n'))\n",
    "\n",
    "def fib(n):\n",
    "    a, b = 0, 1\n",
    "    for _ in range(n):\n",
    "        yield a\n",
    "        a, b = b, a + b\n",
    "\n",
    "print(list(fib(desired_fib)))\n"
   ]
  },
  {
   "cell_type": "code",
   "execution_count": 8,
   "metadata": {},
   "outputs": [
    {
     "name": "stdout",
     "output_type": "stream",
     "text": [
      "Please input a number to square it!\n",
      "10\n",
      "The square of 10 is 100\n"
     ]
    }
   ],
   "source": [
    "# 6) Write a program that takes a number and print its square.\n",
    "\n",
    "def inputNumber(message):\n",
    "  while True:\n",
    "    try:\n",
    "       userInput = int(input(message))       \n",
    "    except ValueError:\n",
    "       print(\"Not an integer! Try again.\")\n",
    "       continue\n",
    "    else:\n",
    "       return userInput \n",
    "       break\n",
    "\n",
    "square_input = inputNumber('Please input a number to square it!\\n')\n",
    "\n",
    "result = square_input ** 2\n",
    "print('The square of ' + str(square_input) + ' is ' + str(result))"
   ]
  },
  {
   "cell_type": "code",
   "execution_count": 10,
   "metadata": {},
   "outputs": [
    {
     "name": "stdout",
     "output_type": "stream",
     "text": [
      "Please input a list of positive integers above 0 separated by commas ex [15,3,2,1]\n",
      "5,7,9\n",
      "[5, 7, 9]\n",
      "The average of the sequence is 7\n"
     ]
    }
   ],
   "source": [
    "# 7) Given a list of positive integers larger than 0 the answer should contain the average value\n",
    "\n",
    "def seq_average():\n",
    "    numbers = []\n",
    "    num_seq = input('Please input a list of positive integers above 0 separated by commas ex [15,3,2,1]\\n')\n",
    "    \n",
    "    for x in num_seq.split(','):\n",
    "        numbers.append(int(x))\n",
    "    print(numbers)\n",
    "    sequence_avg = sum(numbers) / float(len(numbers))\n",
    "    # from statistics import mean\n",
    "    # sequence_avg = mean(numbers)\n",
    "    print('The average of the sequence is ' + str(sequence_avg))\n",
    "    \n",
    "seq_average()"
   ]
  },
  {
   "cell_type": "code",
   "execution_count": 12,
   "metadata": {},
   "outputs": [
    {
     "name": "stdout",
     "output_type": "stream",
     "text": [
      "vowels:  ['e', 'u', 'i', 'o', 'o']\n",
      "vowel count:  5\n"
     ]
    }
   ],
   "source": [
    "# 8) Return the number of vowels per string.\n",
    "\n",
    "def vowel_count(phrase):\n",
    "    phrase_list = list(phrase.lower())\n",
    "    vowel = ['a','e','i','o','u']\n",
    "    vowel_tot = [ lett for lett in phrase_list if lett in vowel ]\n",
    "    print('vowels: ',vowel_tot)\n",
    "    print('vowel count: ',len(vowel_tot))\n",
    "    \n",
    "vowel_count('The quick brown fox')"
   ]
  },
  {
   "cell_type": "code",
   "execution_count": 88,
   "metadata": {},
   "outputs": [
    {
     "data": {
      "text/plain": [
       "5"
      ]
     },
     "execution_count": 88,
     "metadata": {},
     "output_type": "execute_result"
    }
   ],
   "source": [
    "# alternative\n",
    "\n",
    "def countvowels(string):\n",
    "    num_vowels=0\n",
    "    for char in string.lower():\n",
    "        if char in \"aeiou\":\n",
    "           num_vowels += 1\n",
    "    return num_vowels\n",
    "\n",
    "countvowels('the quIck brown fox')"
   ]
  },
  {
   "cell_type": "code",
   "execution_count": 13,
   "metadata": {},
   "outputs": [
    {
     "name": "stdout",
     "output_type": "stream",
     "text": [
      "Please enter the temperature in fahrenheit\n",
      "212\n",
      "The temperature in celcius is 100.0 degrees\n"
     ]
    }
   ],
   "source": [
    "# 9) Write a program to convert degrees of Fahrenheit to Celsius.\n",
    "\n",
    "def temp_converter():\n",
    "\n",
    "    fahrenheit = int(input('Please enter the temperature in fahrenheit\\n'))\n",
    "\n",
    "    celcius = (fahrenheit - 32) * (5 / 9)\n",
    "    print('The temperature in celcius is ' + str(celcius) + ' degrees')\n",
    "    \n",
    "temp_converter()"
   ]
  }
 ],
 "metadata": {
  "kernelspec": {
   "display_name": "Python 3",
   "language": "python",
   "name": "python3"
  },
  "language_info": {
   "codemirror_mode": {
    "name": "ipython",
    "version": 3
   },
   "file_extension": ".py",
   "mimetype": "text/x-python",
   "name": "python",
   "nbconvert_exporter": "python",
   "pygments_lexer": "ipython3",
   "version": "3.6.5"
  }
 },
 "nbformat": 4,
 "nbformat_minor": 2
}
